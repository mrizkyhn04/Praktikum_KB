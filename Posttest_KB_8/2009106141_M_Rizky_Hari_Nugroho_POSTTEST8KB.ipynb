{
  "nbformat": 4,
  "nbformat_minor": 0,
  "metadata": {
    "colab": {
      "provenance": [],
      "collapsed_sections": []
    },
    "kernelspec": {
      "name": "python3",
      "display_name": "Python 3"
    },
    "language_info": {
      "name": "python"
    }
  },
  "cells": [
    {
      "cell_type": "code",
      "execution_count": 267,
      "metadata": {
        "id": "wsM3YoTtVXUh"
      },
      "outputs": [],
      "source": [
        "import tensorflow as tf\n",
        "import tensorflow.keras.datasets as tfds\n",
        "import matplotlib.pyplot as plt\n",
        "import numpy as np"
      ]
    },
    {
      "cell_type": "markdown",
      "source": [
        "# Dataset"
      ],
      "metadata": {
        "id": "yMNyDUVH4WqW"
      }
    },
    {
      "cell_type": "code",
      "source": [
        "(x_train_raw, y_train_raw), (x_test_raw, y_test_raw) = tfds.cifar100.load_data()"
      ],
      "metadata": {
        "id": "Cm85VgxGVj2p"
      },
      "execution_count": 268,
      "outputs": []
    },
    {
      "cell_type": "code",
      "source": [
        "# Cek jumlah data train dan test\n",
        "print(f'panjang x train: {len(x_train_raw)}',\n",
        "      f'panjang y train: {len(y_train_raw)}',\n",
        "      f'panjang x test: {len(x_test_raw)}',\n",
        "      f'panjang y test: {len(y_test_raw)}',\n",
        "      sep='\\n')"
      ],
      "metadata": {
        "colab": {
          "base_uri": "https://localhost:8080/"
        },
        "id": "ba-Z2iHwVobB",
        "outputId": "d9efae26-c978-4300-dec9-8abeaec45b88"
      },
      "execution_count": 269,
      "outputs": [
        {
          "output_type": "stream",
          "name": "stdout",
          "text": [
            "panjang x train: 50000\n",
            "panjang y train: 50000\n",
            "panjang x test: 10000\n",
            "panjang y test: 10000\n"
          ]
        }
      ]
    },
    {
      "cell_type": "code",
      "source": [
        "# Menampilkan sampel gambar\n",
        "fig = plt.figure(figsize=(10, 10))\n",
        "\n",
        "fig.add_subplot(2, 2, 1)\n",
        "\n",
        "plt.imshow(x_train_raw[41263])\n",
        "plt.axis('off')\n",
        "plt.title(\"Gambar 1\")\n",
        "\n",
        "fig.add_subplot(2, 2, 2)\n",
        "\n",
        "plt.imshow(x_train_raw[10162])\n",
        "plt.axis('off')\n",
        "plt.title(\"Gambar 2\")\n",
        "\n",
        "fig.add_subplot(2, 2, 3)\n",
        "\n",
        "plt.imshow(x_train_raw[25121])\n",
        "plt.axis('off')\n",
        "plt.title(\"Gambar 3\")\n",
        "\n",
        "fig.add_subplot(2, 2, 4)\n",
        "\n",
        "plt.imshow(x_train_raw[200])\n",
        "plt.axis('off')\n",
        "plt.title(\"Gambar 4\")\n",
        "\n",
        "plt.show()"
      ],
      "metadata": {
        "colab": {
          "base_uri": "https://localhost:8080/",
          "height": 590
        },
        "id": "dfch6K-3V4y4",
        "outputId": "cab12898-9c2e-4a8e-ee3b-fa7f2df97380"
      },
      "execution_count": 270,
      "outputs": [
        {
          "output_type": "display_data",
          "data": {
            "text/plain": [
              "<Figure size 720x720 with 4 Axes>"
            ],
            "image/png": "[encoded data removed]"
          },
          "metadata": {
            "needs_background": "light"
          }
        }
      ]
    },
    {
      "cell_type": "code",
      "source": [
        "# Encode label\n",
        "num_class = len(np.unique(y_train_raw))\n",
        "y_train = tf.keras.utils.to_categorical(y_train_raw, num_class)\n",
        "y_test = tf.keras.utils.to_categorical(y_test_raw, num_class)"
      ],
      "metadata": {
        "id": "OZcXcIfHWFtM"
      },
      "execution_count": 271,
      "outputs": []
    },
    {
      "cell_type": "code",
      "source": [
        "# Cek dimensi \n",
        "x_train_raw.shape"
      ],
      "metadata": {
        "colab": {
          "base_uri": "https://localhost:8080/"
        },
        "id": "gdxmYsCKW4Pc",
        "outputId": "d19eaace-7188-427e-eee9-0fde3cdeb47b"
      },
      "execution_count": 272,
      "outputs": [
        {
          "output_type": "execute_result",
          "data": {
            "text/plain": [
              "(50000, 32, 32, 3)"
            ]
          },
          "metadata": {},
          "execution_count": 272
        }
      ]
    },
    {
      "cell_type": "code",
      "source": [
        "# Ubah dimensi \n",
        "x_train = tf.reshape(x_train_raw, [50000, 3072])\n",
        "x_test = tf.reshape(x_test_raw, [10000, 3072])"
      ],
      "metadata": {
        "id": "XKzNUn5lW8WO"
      },
      "execution_count": 273,
      "outputs": []
    },
    {
      "cell_type": "code",
      "source": [
        "# Menormalkan nilai piksel gambar\n",
        "x_train = tf.cast(x_train, tf.float32) / 255\n",
        "x_test = tf.cast(x_test, tf.float32) / 255"
      ],
      "metadata": {
        "id": "uuow9AB_YQz-"
      },
      "execution_count": 274,
      "outputs": []
    },
    {
      "cell_type": "code",
      "source": [
        "# Bangun arsitektur\n",
        "model = tf.keras.Sequential([\n",
        "    tf.keras.layers.Dense(512, activation='relu', input_dim=3072),\n",
        "    tf.keras.layers.Dense(512, activation='relu'),\n",
        "    tf.keras.layers.Dense(num_class, activation='exponential')\n",
        "])"
      ],
      "metadata": {
        "id": "GYlUoF5QYUif"
      },
      "execution_count": 275,
      "outputs": []
    },
    {
      "cell_type": "code",
      "source": [
        "# Ringkasan detail parameter layer\n",
        "model.summary()"
      ],
      "metadata": {
        "colab": {
          "base_uri": "https://localhost:8080/"
        },
        "id": "xTl_FCCyYZM3",
        "outputId": "7a4d702f-0713-45fe-f013-d29544f486ac"
      },
      "execution_count": 276,
      "outputs": [
        {
          "output_type": "stream",
          "name": "stdout",
          "text": [
            "Model: \"sequential_21\"\n",
            "_________________________________________________________________\n",
            " Layer (type)                Output Shape              Param #   \n",
            "=================================================================\n",
            " dense_63 (Dense)            (None, 512)               1573376   \n",
            "                                                                 \n",
            " dense_64 (Dense)            (None, 512)               262656    \n",
            "                                                                 \n",
            " dense_65 (Dense)            (None, 100)               51300     \n",
            "                                                                 \n",
            "=================================================================\n",
            "Total params: 1,887,332\n",
            "Trainable params: 1,887,332\n",
            "Non-trainable params: 0\n",
            "_________________________________________________________________\n"
          ]
        }
      ]
    },
    {
      "cell_type": "markdown",
      "source": [
        "# Buat Model"
      ],
      "metadata": {
        "id": "tWbB8n-U4AHJ"
      }
    },
    {
      "cell_type": "code",
      "source": [
        "# Konfigurasi model\n",
        "model.compile(\n",
        "    optimizer=tf.keras.optimizers.Adam(),\n",
        "    loss=tf.keras.losses.categorical_crossentropy,\n",
        "    metrics=['accuracy']\n",
        ")"
      ],
      "metadata": {
        "id": "fnQfuVLJYco2"
      },
      "execution_count": 277,
      "outputs": []
    },
    {
      "cell_type": "code",
      "source": [
        "# Latih model\n",
        "history = model.fit(\n",
        "    x_train,\n",
        "    y_train,\n",
        "    epochs=150,\n",
        "    steps_per_epoch=20,\n",
        "    validation_data=(x_test, y_test)\n",
        ")"
      ],
      "metadata": {
        "colab": {
          "base_uri": "https://localhost:8080/"
        },
        "id": "yRvyaz-eYiSj",
        "outputId": "e9cb7dc0-2da7-4fe8-90c9-8b412f5232cd"
      },
      "execution_count": 278,
      "outputs": [
        {
          "output_type": "stream",
          "name": "stdout",
          "text": [
            "Epoch 1/150\n",
            "20/20 [==============================] - 8s 402ms/step - loss: 4.4421 - accuracy: 0.0418 - val_loss: 4.1577 - val_accuracy: 0.0725\n",
            "Epoch 2/150\n",
            "20/20 [==============================] - 8s 393ms/step - loss: 4.0238 - accuracy: 0.0935 - val_loss: 3.9306 - val_accuracy: 0.1036\n",
            "Epoch 3/150\n",
            "20/20 [==============================] - 8s 390ms/step - loss: 3.8311 - accuracy: 0.1249 - val_loss: 3.7855 - val_accuracy: 0.1324\n",
            "Epoch 4/150\n",
            "20/20 [==============================] - 8s 389ms/step - loss: 3.6940 - accuracy: 0.1462 - val_loss: 3.6759 - val_accuracy: 0.1514\n",
            "Epoch 5/150\n",
            "20/20 [==============================] - 9s 433ms/step - loss: 3.5898 - accuracy: 0.1636 - val_loss: 3.6125 - val_accuracy: 0.1619\n",
            "Epoch 6/150\n",
            "20/20 [==============================] - 8s 394ms/step - loss: 3.5149 - accuracy: 0.1782 - val_loss: 3.5471 - val_accuracy: 0.1743\n",
            "Epoch 7/150\n",
            "20/20 [==============================] - 8s 394ms/step - loss: 3.4476 - accuracy: 0.1901 - val_loss: 3.5082 - val_accuracy: 0.1844\n",
            "Epoch 8/150\n",
            "20/20 [==============================] - 8s 403ms/step - loss: 3.3847 - accuracy: 0.2022 - val_loss: 3.4623 - val_accuracy: 0.1916\n",
            "Epoch 9/150\n",
            "20/20 [==============================] - 8s 401ms/step - loss: 3.3368 - accuracy: 0.2116 - val_loss: 3.4488 - val_accuracy: 0.1934\n",
            "Epoch 10/150\n",
            "20/20 [==============================] - 8s 397ms/step - loss: 3.2850 - accuracy: 0.2205 - val_loss: 3.4083 - val_accuracy: 0.2027\n",
            "Epoch 11/150\n",
            "20/20 [==============================] - 8s 397ms/step - loss: 3.2300 - accuracy: 0.2290 - val_loss: 3.3624 - val_accuracy: 0.2102\n",
            "Epoch 12/150\n",
            "20/20 [==============================] - 8s 402ms/step - loss: 3.1891 - accuracy: 0.2375 - val_loss: 3.3542 - val_accuracy: 0.2115\n",
            "Epoch 13/150\n",
            "20/20 [==============================] - 9s 449ms/step - loss: 3.1497 - accuracy: 0.2442 - val_loss: 3.3292 - val_accuracy: 0.2162\n",
            "Epoch 14/150\n",
            "20/20 [==============================] - 8s 396ms/step - loss: 3.1072 - accuracy: 0.2531 - val_loss: 3.3000 - val_accuracy: 0.2270\n",
            "Epoch 15/150\n",
            "20/20 [==============================] - 8s 398ms/step - loss: 3.0736 - accuracy: 0.2586 - val_loss: 3.2848 - val_accuracy: 0.2256\n",
            "Epoch 16/150\n",
            "20/20 [==============================] - 8s 396ms/step - loss: 3.0460 - accuracy: 0.2605 - val_loss: 3.2695 - val_accuracy: 0.2292\n",
            "Epoch 17/150\n",
            "20/20 [==============================] - 8s 401ms/step - loss: 3.0102 - accuracy: 0.2697 - val_loss: 3.2503 - val_accuracy: 0.2344\n",
            "Epoch 18/150\n",
            "20/20 [==============================] - 8s 400ms/step - loss: 2.9715 - accuracy: 0.2757 - val_loss: 3.2390 - val_accuracy: 0.2374\n",
            "Epoch 19/150\n",
            "20/20 [==============================] - 8s 399ms/step - loss: 2.9401 - accuracy: 0.2864 - val_loss: 3.2226 - val_accuracy: 0.2403\n",
            "Epoch 20/150\n",
            "20/20 [==============================] - 8s 411ms/step - loss: 2.9019 - accuracy: 0.2907 - val_loss: 3.2243 - val_accuracy: 0.2432\n",
            "Epoch 21/150\n",
            "20/20 [==============================] - 8s 409ms/step - loss: 2.8855 - accuracy: 0.2949 - val_loss: 3.2189 - val_accuracy: 0.2425\n",
            "Epoch 22/150\n",
            "20/20 [==============================] - 9s 451ms/step - loss: 2.8565 - accuracy: 0.2986 - val_loss: 3.2168 - val_accuracy: 0.2390\n",
            "Epoch 23/150\n",
            "20/20 [==============================] - 8s 405ms/step - loss: 2.8238 - accuracy: 0.3044 - val_loss: 3.2084 - val_accuracy: 0.2438\n",
            "Epoch 24/150\n",
            "20/20 [==============================] - 8s 391ms/step - loss: 2.8129 - accuracy: 0.3090 - val_loss: 3.2002 - val_accuracy: 0.2468\n",
            "Epoch 25/150\n",
            "20/20 [==============================] - 8s 398ms/step - loss: 2.7830 - accuracy: 0.3157 - val_loss: 3.1753 - val_accuracy: 0.2487\n",
            "Epoch 26/150\n",
            "20/20 [==============================] - 8s 402ms/step - loss: 2.7396 - accuracy: 0.3229 - val_loss: 3.1760 - val_accuracy: 0.2494\n",
            "Epoch 27/150\n",
            "20/20 [==============================] - 8s 399ms/step - loss: 2.7163 - accuracy: 0.3270 - val_loss: 3.1903 - val_accuracy: 0.2480\n",
            "Epoch 28/150\n",
            "20/20 [==============================] - 8s 402ms/step - loss: 2.6938 - accuracy: 0.3320 - val_loss: 3.1808 - val_accuracy: 0.2497\n",
            "Epoch 29/150\n",
            "20/20 [==============================] - 8s 400ms/step - loss: 2.6736 - accuracy: 0.3355 - val_loss: 3.1639 - val_accuracy: 0.2560\n",
            "Epoch 30/150\n",
            "20/20 [==============================] - 8s 397ms/step - loss: 2.6559 - accuracy: 0.3376 - val_loss: 3.1861 - val_accuracy: 0.2519\n",
            "Epoch 31/150\n",
            "20/20 [==============================] - 9s 441ms/step - loss: 2.6254 - accuracy: 0.3447 - val_loss: 3.1525 - val_accuracy: 0.2594\n",
            "Epoch 32/150\n",
            "20/20 [==============================] - 8s 397ms/step - loss: 2.5945 - accuracy: 0.3542 - val_loss: 3.1596 - val_accuracy: 0.2623\n",
            "Epoch 33/150\n",
            "20/20 [==============================] - 8s 399ms/step - loss: 2.5681 - accuracy: 0.3582 - val_loss: 3.1629 - val_accuracy: 0.2590\n",
            "Epoch 34/150\n",
            "20/20 [==============================] - 8s 394ms/step - loss: 2.5513 - accuracy: 0.3614 - val_loss: 3.1578 - val_accuracy: 0.2576\n",
            "Epoch 35/150\n",
            "20/20 [==============================] - 8s 395ms/step - loss: 2.5211 - accuracy: 0.3692 - val_loss: 3.1772 - val_accuracy: 0.2581\n",
            "Epoch 36/150\n",
            "20/20 [==============================] - 8s 397ms/step - loss: 2.5009 - accuracy: 0.3744 - val_loss: 3.1720 - val_accuracy: 0.2610\n",
            "Epoch 37/150\n",
            "20/20 [==============================] - 8s 397ms/step - loss: 2.4826 - accuracy: 0.3758 - val_loss: 3.1814 - val_accuracy: 0.2577\n",
            "Epoch 38/150\n",
            "20/20 [==============================] - 8s 400ms/step - loss: 2.4616 - accuracy: 0.3810 - val_loss: 3.1811 - val_accuracy: 0.2597\n",
            "Epoch 39/150\n",
            "20/20 [==============================] - 9s 442ms/step - loss: 2.4384 - accuracy: 0.3872 - val_loss: 3.1803 - val_accuracy: 0.2626\n",
            "Epoch 40/150\n",
            "20/20 [==============================] - 9s 441ms/step - loss: 2.4288 - accuracy: 0.3877 - val_loss: 3.2193 - val_accuracy: 0.2570\n",
            "Epoch 41/150\n",
            "20/20 [==============================] - 8s 399ms/step - loss: 2.4044 - accuracy: 0.3924 - val_loss: 3.1891 - val_accuracy: 0.2641\n",
            "Epoch 42/150\n",
            "20/20 [==============================] - 8s 396ms/step - loss: 2.3902 - accuracy: 0.3948 - val_loss: 3.1833 - val_accuracy: 0.2662\n",
            "Epoch 43/150\n",
            "20/20 [==============================] - 8s 395ms/step - loss: 2.3643 - accuracy: 0.3998 - val_loss: 3.1928 - val_accuracy: 0.2676\n",
            "Epoch 44/150\n",
            "20/20 [==============================] - 8s 392ms/step - loss: 2.3367 - accuracy: 0.4082 - val_loss: 3.1949 - val_accuracy: 0.2634\n",
            "Epoch 45/150\n",
            "20/20 [==============================] - 8s 395ms/step - loss: 2.3253 - accuracy: 0.4109 - val_loss: 3.1949 - val_accuracy: 0.2647\n",
            "Epoch 46/150\n",
            "20/20 [==============================] - 8s 390ms/step - loss: 2.3006 - accuracy: 0.4171 - val_loss: 3.2028 - val_accuracy: 0.2641\n",
            "Epoch 47/150\n",
            "20/20 [==============================] - 8s 390ms/step - loss: 2.2735 - accuracy: 0.4236 - val_loss: 3.2138 - val_accuracy: 0.2639\n",
            "Epoch 48/150\n",
            "20/20 [==============================] - 8s 394ms/step - loss: 2.2463 - accuracy: 0.4291 - val_loss: 3.2110 - val_accuracy: 0.2656\n",
            "Epoch 49/150\n",
            "20/20 [==============================] - 9s 443ms/step - loss: 2.2342 - accuracy: 0.4331 - val_loss: 3.2145 - val_accuracy: 0.2680\n",
            "Epoch 50/150\n",
            "20/20 [==============================] - 8s 392ms/step - loss: 2.2243 - accuracy: 0.4351 - val_loss: 3.2133 - val_accuracy: 0.2672\n",
            "Epoch 51/150\n",
            "20/20 [==============================] - 9s 442ms/step - loss: 2.2062 - accuracy: 0.4365 - val_loss: 3.2536 - val_accuracy: 0.2614\n",
            "Epoch 52/150\n",
            "20/20 [==============================] - 8s 398ms/step - loss: 2.1965 - accuracy: 0.4379 - val_loss: 3.2416 - val_accuracy: 0.2634\n",
            "Epoch 53/150\n",
            "20/20 [==============================] - 8s 396ms/step - loss: 2.1792 - accuracy: 0.4441 - val_loss: 3.2812 - val_accuracy: 0.2631\n",
            "Epoch 54/150\n",
            "20/20 [==============================] - 8s 388ms/step - loss: 2.1586 - accuracy: 0.4461 - val_loss: 3.2662 - val_accuracy: 0.2696\n",
            "Epoch 55/150\n",
            "20/20 [==============================] - 8s 391ms/step - loss: 2.1394 - accuracy: 0.4531 - val_loss: 3.2621 - val_accuracy: 0.2625\n",
            "Epoch 56/150\n",
            "20/20 [==============================] - 8s 390ms/step - loss: 2.1397 - accuracy: 0.4533 - val_loss: 3.2835 - val_accuracy: 0.2625\n",
            "Epoch 57/150\n",
            "20/20 [==============================] - 8s 391ms/step - loss: 2.1040 - accuracy: 0.4593 - val_loss: 3.2730 - val_accuracy: 0.2669\n",
            "Epoch 58/150\n",
            "20/20 [==============================] - 9s 440ms/step - loss: 2.0890 - accuracy: 0.4673 - val_loss: 3.2929 - val_accuracy: 0.2623\n",
            "Epoch 59/150\n",
            "20/20 [==============================] - 8s 396ms/step - loss: 2.0776 - accuracy: 0.4662 - val_loss: 3.3303 - val_accuracy: 0.2602\n",
            "Epoch 60/150\n",
            "20/20 [==============================] - 8s 398ms/step - loss: 2.0685 - accuracy: 0.4682 - val_loss: 3.3330 - val_accuracy: 0.2641\n",
            "Epoch 61/150\n",
            "20/20 [==============================] - 8s 399ms/step - loss: 2.0423 - accuracy: 0.4761 - val_loss: 3.3255 - val_accuracy: 0.2658\n",
            "Epoch 62/150\n",
            "20/20 [==============================] - 8s 399ms/step - loss: 2.0290 - accuracy: 0.4767 - val_loss: 3.3417 - val_accuracy: 0.2639\n",
            "Epoch 63/150\n",
            "20/20 [==============================] - 8s 390ms/step - loss: 2.0221 - accuracy: 0.4779 - val_loss: 3.3372 - val_accuracy: 0.2635\n",
            "Epoch 64/150\n",
            "20/20 [==============================] - 8s 391ms/step - loss: 1.9935 - accuracy: 0.4878 - val_loss: 3.3299 - val_accuracy: 0.2636\n",
            "Epoch 65/150\n",
            "20/20 [==============================] - 8s 391ms/step - loss: 1.9737 - accuracy: 0.4910 - val_loss: 3.3536 - val_accuracy: 0.2610\n",
            "Epoch 66/150\n",
            "20/20 [==============================] - 8s 408ms/step - loss: 1.9560 - accuracy: 0.4948 - val_loss: 3.3498 - val_accuracy: 0.2641\n",
            "Epoch 67/150\n",
            "20/20 [==============================] - 9s 438ms/step - loss: 1.9331 - accuracy: 0.5028 - val_loss: 3.3732 - val_accuracy: 0.2652\n",
            "Epoch 68/150\n",
            "20/20 [==============================] - 10s 500ms/step - loss: 1.9228 - accuracy: 0.5047 - val_loss: 3.3737 - val_accuracy: 0.2666\n",
            "Epoch 69/150\n",
            "20/20 [==============================] - 9s 445ms/step - loss: 1.9067 - accuracy: 0.5076 - val_loss: 3.3966 - val_accuracy: 0.2612\n",
            "Epoch 70/150\n",
            "20/20 [==============================] - 8s 397ms/step - loss: 1.9096 - accuracy: 0.5067 - val_loss: 3.4142 - val_accuracy: 0.2627\n",
            "Epoch 71/150\n",
            "20/20 [==============================] - 8s 396ms/step - loss: 1.8788 - accuracy: 0.5135 - val_loss: 3.4205 - val_accuracy: 0.2622\n",
            "Epoch 72/150\n",
            "20/20 [==============================] - 8s 404ms/step - loss: 1.8749 - accuracy: 0.5162 - val_loss: 3.4190 - val_accuracy: 0.2650\n",
            "Epoch 73/150\n",
            "20/20 [==============================] - 8s 424ms/step - loss: 1.8514 - accuracy: 0.5204 - val_loss: 3.4438 - val_accuracy: 0.2631\n",
            "Epoch 74/150\n",
            "20/20 [==============================] - 8s 426ms/step - loss: 1.8441 - accuracy: 0.5206 - val_loss: 3.4315 - val_accuracy: 0.2658\n",
            "Epoch 75/150\n",
            "20/20 [==============================] - 9s 481ms/step - loss: 1.8253 - accuracy: 0.5284 - val_loss: 3.4413 - val_accuracy: 0.2643\n",
            "Epoch 76/150\n",
            "20/20 [==============================] - 8s 409ms/step - loss: 1.8103 - accuracy: 0.5304 - val_loss: 3.4595 - val_accuracy: 0.2678\n",
            "Epoch 77/150\n",
            "20/20 [==============================] - 8s 397ms/step - loss: 1.8006 - accuracy: 0.5343 - val_loss: 3.4864 - val_accuracy: 0.2619\n",
            "Epoch 78/150\n",
            "20/20 [==============================] - 8s 396ms/step - loss: 1.7851 - accuracy: 0.5368 - val_loss: 3.4975 - val_accuracy: 0.2627\n",
            "Epoch 79/150\n",
            "20/20 [==============================] - 8s 397ms/step - loss: 1.7618 - accuracy: 0.5443 - val_loss: 3.4829 - val_accuracy: 0.2646\n",
            "Epoch 80/150\n",
            "20/20 [==============================] - 8s 401ms/step - loss: 1.7428 - accuracy: 0.5491 - val_loss: 3.4943 - val_accuracy: 0.2634\n",
            "Epoch 81/150\n",
            "20/20 [==============================] - 8s 403ms/step - loss: 1.7413 - accuracy: 0.5473 - val_loss: 3.5123 - val_accuracy: 0.2648\n",
            "Epoch 82/150\n",
            "20/20 [==============================] - 8s 401ms/step - loss: 1.7310 - accuracy: 0.5509 - val_loss: 3.5239 - val_accuracy: 0.2654\n",
            "Epoch 83/150\n",
            "20/20 [==============================] - 9s 445ms/step - loss: 1.7170 - accuracy: 0.5544 - val_loss: 3.5304 - val_accuracy: 0.2613\n",
            "Epoch 84/150\n",
            "20/20 [==============================] - 8s 393ms/step - loss: 1.7017 - accuracy: 0.5584 - val_loss: 3.5501 - val_accuracy: 0.2593\n",
            "Epoch 85/150\n",
            "20/20 [==============================] - 8s 396ms/step - loss: 1.6975 - accuracy: 0.5578 - val_loss: 3.5702 - val_accuracy: 0.2605\n",
            "Epoch 86/150\n",
            "20/20 [==============================] - 8s 403ms/step - loss: 1.6806 - accuracy: 0.5639 - val_loss: 3.5767 - val_accuracy: 0.2584\n",
            "Epoch 87/150\n",
            "20/20 [==============================] - 8s 405ms/step - loss: 1.6593 - accuracy: 0.5704 - val_loss: 3.5933 - val_accuracy: 0.2594\n",
            "Epoch 88/150\n",
            "20/20 [==============================] - 8s 398ms/step - loss: 1.6593 - accuracy: 0.5687 - val_loss: 3.5964 - val_accuracy: 0.2623\n",
            "Epoch 89/150\n",
            "20/20 [==============================] - 8s 401ms/step - loss: 1.6329 - accuracy: 0.5731 - val_loss: 3.6332 - val_accuracy: 0.2603\n",
            "Epoch 90/150\n",
            "20/20 [==============================] - 8s 396ms/step - loss: 1.6317 - accuracy: 0.5733 - val_loss: 3.6305 - val_accuracy: 0.2616\n",
            "Epoch 91/150\n",
            "20/20 [==============================] - 8s 404ms/step - loss: 1.6202 - accuracy: 0.5775 - val_loss: 3.6320 - val_accuracy: 0.2624\n",
            "Epoch 92/150\n",
            "20/20 [==============================] - 9s 444ms/step - loss: 1.6118 - accuracy: 0.5805 - val_loss: 3.6630 - val_accuracy: 0.2543\n",
            "Epoch 93/150\n",
            "20/20 [==============================] - 8s 400ms/step - loss: 1.6079 - accuracy: 0.5802 - val_loss: 3.6611 - val_accuracy: 0.2597\n",
            "Epoch 94/150\n",
            "20/20 [==============================] - 8s 401ms/step - loss: 1.5849 - accuracy: 0.5861 - val_loss: 3.6803 - val_accuracy: 0.2609\n",
            "Epoch 95/150\n",
            "20/20 [==============================] - 8s 403ms/step - loss: 1.5600 - accuracy: 0.5935 - val_loss: 3.6834 - val_accuracy: 0.2653\n",
            "Epoch 96/150\n",
            "20/20 [==============================] - 8s 403ms/step - loss: 1.5592 - accuracy: 0.5928 - val_loss: 3.6979 - val_accuracy: 0.2577\n",
            "Epoch 97/150\n",
            "20/20 [==============================] - 8s 404ms/step - loss: 1.5428 - accuracy: 0.5993 - val_loss: 3.6972 - val_accuracy: 0.2597\n",
            "Epoch 98/150\n",
            "20/20 [==============================] - 8s 413ms/step - loss: 1.5215 - accuracy: 0.6061 - val_loss: 3.7319 - val_accuracy: 0.2577\n",
            "Epoch 99/150\n",
            "20/20 [==============================] - 8s 408ms/step - loss: 1.5268 - accuracy: 0.6016 - val_loss: 3.7348 - val_accuracy: 0.2607\n",
            "Epoch 100/150\n",
            "20/20 [==============================] - 9s 453ms/step - loss: 1.5013 - accuracy: 0.6086 - val_loss: 3.7416 - val_accuracy: 0.2593\n",
            "Epoch 101/150\n",
            "20/20 [==============================] - 8s 403ms/step - loss: 1.4924 - accuracy: 0.6135 - val_loss: 3.7639 - val_accuracy: 0.2563\n",
            "Epoch 102/150\n",
            "20/20 [==============================] - 8s 407ms/step - loss: 1.4811 - accuracy: 0.6146 - val_loss: 3.7676 - val_accuracy: 0.2586\n",
            "Epoch 103/150\n",
            "20/20 [==============================] - 8s 402ms/step - loss: 1.4752 - accuracy: 0.6166 - val_loss: 3.8141 - val_accuracy: 0.2568\n",
            "Epoch 104/150\n",
            "20/20 [==============================] - 8s 395ms/step - loss: 1.4685 - accuracy: 0.6169 - val_loss: 3.8036 - val_accuracy: 0.2593\n",
            "Epoch 105/150\n",
            "20/20 [==============================] - 8s 398ms/step - loss: 1.4652 - accuracy: 0.6171 - val_loss: 3.8326 - val_accuracy: 0.2548\n",
            "Epoch 106/150\n",
            "20/20 [==============================] - 8s 402ms/step - loss: 1.4562 - accuracy: 0.6193 - val_loss: 3.8095 - val_accuracy: 0.2594\n",
            "Epoch 107/150\n",
            "20/20 [==============================] - 8s 398ms/step - loss: 1.4238 - accuracy: 0.6323 - val_loss: 3.8382 - val_accuracy: 0.2625\n",
            "Epoch 108/150\n",
            "20/20 [==============================] - 8s 403ms/step - loss: 1.4209 - accuracy: 0.6294 - val_loss: 3.8306 - val_accuracy: 0.2600\n",
            "Epoch 109/150\n",
            "20/20 [==============================] - 9s 449ms/step - loss: 1.4083 - accuracy: 0.6327 - val_loss: 3.8547 - val_accuracy: 0.2583\n",
            "Epoch 110/150\n",
            "20/20 [==============================] - 8s 404ms/step - loss: 1.4030 - accuracy: 0.6370 - val_loss: 3.8827 - val_accuracy: 0.2560\n",
            "Epoch 111/150\n",
            "20/20 [==============================] - 8s 399ms/step - loss: 1.3791 - accuracy: 0.6422 - val_loss: 3.8959 - val_accuracy: 0.2540\n",
            "Epoch 112/150\n",
            "20/20 [==============================] - 8s 395ms/step - loss: 1.3784 - accuracy: 0.6402 - val_loss: 3.9426 - val_accuracy: 0.2551\n",
            "Epoch 113/150\n",
            "20/20 [==============================] - 8s 406ms/step - loss: 1.3591 - accuracy: 0.6461 - val_loss: 3.9378 - val_accuracy: 0.2565\n",
            "Epoch 114/150\n",
            "20/20 [==============================] - 8s 409ms/step - loss: 1.3577 - accuracy: 0.6462 - val_loss: 3.9445 - val_accuracy: 0.2559\n",
            "Epoch 115/150\n",
            "20/20 [==============================] - 8s 400ms/step - loss: 1.3445 - accuracy: 0.6493 - val_loss: 3.9608 - val_accuracy: 0.2540\n",
            "Epoch 116/150\n",
            "20/20 [==============================] - 8s 405ms/step - loss: 1.3466 - accuracy: 0.6477 - val_loss: 3.9920 - val_accuracy: 0.2587\n",
            "Epoch 117/150\n",
            "20/20 [==============================] - 9s 453ms/step - loss: 1.3419 - accuracy: 0.6495 - val_loss: 4.0115 - val_accuracy: 0.2505\n",
            "Epoch 118/150\n",
            "20/20 [==============================] - 8s 403ms/step - loss: 1.3232 - accuracy: 0.6547 - val_loss: 3.9679 - val_accuracy: 0.2556\n",
            "Epoch 119/150\n",
            "20/20 [==============================] - 8s 396ms/step - loss: 1.3087 - accuracy: 0.6582 - val_loss: 3.9927 - val_accuracy: 0.2569\n",
            "Epoch 120/150\n",
            "20/20 [==============================] - 8s 399ms/step - loss: 1.2999 - accuracy: 0.6608 - val_loss: 4.0153 - val_accuracy: 0.2586\n",
            "Epoch 121/150\n",
            "20/20 [==============================] - 8s 404ms/step - loss: 1.2789 - accuracy: 0.6680 - val_loss: 4.0305 - val_accuracy: 0.2544\n",
            "Epoch 122/150\n",
            "20/20 [==============================] - 8s 407ms/step - loss: 1.2819 - accuracy: 0.6662 - val_loss: 4.0557 - val_accuracy: 0.2546\n",
            "Epoch 123/150\n",
            "20/20 [==============================] - 8s 410ms/step - loss: 1.2682 - accuracy: 0.6716 - val_loss: 4.0908 - val_accuracy: 0.2565\n",
            "Epoch 124/150\n",
            "20/20 [==============================] - 8s 409ms/step - loss: 1.2506 - accuracy: 0.6751 - val_loss: 4.0843 - val_accuracy: 0.2531\n",
            "Epoch 125/150\n",
            "20/20 [==============================] - 8s 405ms/step - loss: 1.2486 - accuracy: 0.6756 - val_loss: 4.1223 - val_accuracy: 0.2510\n",
            "Epoch 126/150\n",
            "20/20 [==============================] - 9s 444ms/step - loss: 1.2376 - accuracy: 0.6784 - val_loss: 4.1192 - val_accuracy: 0.2505\n",
            "Epoch 127/150\n",
            "20/20 [==============================] - 8s 401ms/step - loss: 1.2328 - accuracy: 0.6781 - val_loss: 4.1523 - val_accuracy: 0.2503\n",
            "Epoch 128/150\n",
            "20/20 [==============================] - 8s 407ms/step - loss: 1.2292 - accuracy: 0.6817 - val_loss: 4.1686 - val_accuracy: 0.2524\n",
            "Epoch 129/150\n",
            "20/20 [==============================] - 8s 401ms/step - loss: 1.2261 - accuracy: 0.6808 - val_loss: 4.1511 - val_accuracy: 0.2547\n",
            "Epoch 130/150\n",
            "20/20 [==============================] - 9s 445ms/step - loss: 1.1986 - accuracy: 0.6902 - val_loss: 4.1686 - val_accuracy: 0.2551\n",
            "Epoch 131/150\n",
            "20/20 [==============================] - 8s 398ms/step - loss: 1.1950 - accuracy: 0.6895 - val_loss: 4.1804 - val_accuracy: 0.2569\n",
            "Epoch 132/150\n",
            "20/20 [==============================] - 8s 399ms/step - loss: 1.1812 - accuracy: 0.6940 - val_loss: 4.2179 - val_accuracy: 0.2500\n",
            "Epoch 133/150\n",
            "20/20 [==============================] - 8s 401ms/step - loss: 1.1748 - accuracy: 0.6973 - val_loss: 4.2238 - val_accuracy: 0.2511\n",
            "Epoch 134/150\n",
            "20/20 [==============================] - 8s 400ms/step - loss: 1.1730 - accuracy: 0.6955 - val_loss: 4.2432 - val_accuracy: 0.2528\n",
            "Epoch 135/150\n",
            "20/20 [==============================] - 9s 447ms/step - loss: 1.1561 - accuracy: 0.7016 - val_loss: 4.2676 - val_accuracy: 0.2527\n",
            "Epoch 136/150\n",
            "20/20 [==============================] - 8s 404ms/step - loss: 1.1618 - accuracy: 0.6988 - val_loss: 4.2949 - val_accuracy: 0.2483\n",
            "Epoch 137/150\n",
            "20/20 [==============================] - 8s 400ms/step - loss: 1.1621 - accuracy: 0.6970 - val_loss: 4.3015 - val_accuracy: 0.2487\n",
            "Epoch 138/150\n",
            "20/20 [==============================] - 8s 399ms/step - loss: 1.1380 - accuracy: 0.7042 - val_loss: 4.2760 - val_accuracy: 0.2525\n",
            "Epoch 139/150\n",
            "20/20 [==============================] - 8s 404ms/step - loss: 1.1342 - accuracy: 0.7054 - val_loss: 4.3126 - val_accuracy: 0.2515\n",
            "Epoch 140/150\n",
            "20/20 [==============================] - 8s 401ms/step - loss: 1.1297 - accuracy: 0.7056 - val_loss: 4.3351 - val_accuracy: 0.2507\n",
            "Epoch 141/150\n",
            "20/20 [==============================] - 8s 407ms/step - loss: 1.1157 - accuracy: 0.7103 - val_loss: 4.3575 - val_accuracy: 0.2478\n",
            "Epoch 142/150\n",
            "20/20 [==============================] - 8s 403ms/step - loss: 1.1110 - accuracy: 0.7119 - val_loss: 4.3467 - val_accuracy: 0.2504\n",
            "Epoch 143/150\n",
            "20/20 [==============================] - 9s 434ms/step - loss: 1.0889 - accuracy: 0.7193 - val_loss: 4.3801 - val_accuracy: 0.2498\n",
            "Epoch 144/150\n",
            "20/20 [==============================] - 8s 401ms/step - loss: 1.0858 - accuracy: 0.7188 - val_loss: 4.3772 - val_accuracy: 0.2510\n",
            "Epoch 145/150\n",
            "20/20 [==============================] - 8s 396ms/step - loss: 1.0786 - accuracy: 0.7240 - val_loss: 4.3857 - val_accuracy: 0.2532\n",
            "Epoch 146/150\n",
            "20/20 [==============================] - 8s 402ms/step - loss: 1.0650 - accuracy: 0.7274 - val_loss: 4.4250 - val_accuracy: 0.2512\n",
            "Epoch 147/150\n",
            "20/20 [==============================] - 8s 403ms/step - loss: 1.0603 - accuracy: 0.7271 - val_loss: 4.4392 - val_accuracy: 0.2534\n",
            "Epoch 148/150\n",
            "20/20 [==============================] - 8s 397ms/step - loss: 1.0494 - accuracy: 0.7319 - val_loss: 4.4527 - val_accuracy: 0.2528\n",
            "Epoch 149/150\n",
            "20/20 [==============================] - 8s 430ms/step - loss: 1.0363 - accuracy: 0.7353 - val_loss: 4.4600 - val_accuracy: 0.2517\n",
            "Epoch 150/150\n",
            "20/20 [==============================] - 10s 521ms/step - loss: 1.0280 - accuracy: 0.7365 - val_loss: 4.4670 - val_accuracy: 0.2512\n"
          ]
        }
      ]
    },
    {
      "cell_type": "code",
      "source": [
        "# Grafik learning rate\n",
        "nilai_x = range(len(history.history['accuracy']))\n",
        "plt.plot(nilai_x, history.history['accuracy'], label='Training')\n",
        "plt.plot(nilai_x, history.history['val_accuracy'], label='Validation')\n",
        "plt.legend()\n",
        "plt.show()"
      ],
      "metadata": {
        "colab": {
          "base_uri": "https://localhost:8080/",
          "height": 265
        },
        "id": "2TeTSeE1YlFE",
        "outputId": "c873f021-93cd-42bd-dc71-ecffd39f8b5a"
      },
      "execution_count": 279,
      "outputs": [
        {
          "output_type": "display_data",
          "data": {
            "text/plain": [
              "<Figure size 432x288 with 1 Axes>"
            ],
            "image/png": "[encoded data removed]"
          },
          "metadata": {
            "needs_background": "light"
          }
        }
      ]
    },
    {
      "cell_type": "code",
      "source": [],
      "metadata": {
        "id": "uXkYHlXGZAZ8"
      },
      "execution_count": 279,
      "outputs": []
    }
  ]
}