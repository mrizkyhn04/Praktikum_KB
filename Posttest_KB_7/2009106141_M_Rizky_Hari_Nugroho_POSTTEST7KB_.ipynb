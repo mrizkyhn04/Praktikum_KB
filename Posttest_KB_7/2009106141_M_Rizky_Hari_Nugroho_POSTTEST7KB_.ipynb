{
  "nbformat": 4,
  "nbformat_minor": 0,
  "metadata": {
    "colab": {
      "provenance": []
    },
    "kernelspec": {
      "name": "python3",
      "display_name": "Python 3"
    },
    "language_info": {
      "name": "python"
    }
  },
  "cells": [
    {
      "cell_type": "markdown",
      "source": [
        "# Import Library"
      ],
      "metadata": {
        "id": "nPMEWEOAKg4Z"
      }
    },
    {
      "cell_type": "code",
      "source": [
        "import tensorflow as tf\n",
        "import numpy as np"
      ],
      "metadata": {
        "id": "DTNa2hVfKaeB"
      },
      "execution_count": 32,
      "outputs": []
    },
    {
      "cell_type": "markdown",
      "source": [
        "# Random Tensor"
      ],
      "metadata": {
        "id": "rRxcN0LXKi2f"
      }
    },
    {
      "cell_type": "code",
      "source": [
        "random_tensor = tf.random.normal([5,5], mean=0, stddev=1, seed=4)\n",
        "print(random_tensor.numpy())"
      ],
      "metadata": {
        "colab": {
          "base_uri": "https://localhost:8080/"
        },
        "id": "6TEx0PoDKbax",
        "outputId": "d29752e6-f62a-4e0b-aaca-b1a3200d1248"
      },
      "execution_count": 33,
      "outputs": [
        {
          "output_type": "stream",
          "name": "stdout",
          "text": [
            "[[-1.4347187   0.9239041   0.4699213   0.6724554   0.92193186]\n",
            " [ 0.5830776  -0.29723737  0.5824093  -1.0757695  -0.12024921]\n",
            " [-0.22192276  0.847953   -0.20324574  0.00324441 -1.1847441 ]\n",
            " [ 1.0604854  -0.5577433  -0.7471574   0.7615613  -0.64336294]\n",
            " [ 0.97187966 -0.25947025 -0.5108813   0.8646555   0.92503107]]\n"
          ]
        }
      ]
    },
    {
      "cell_type": "markdown",
      "source": [
        "# Prime Tensor"
      ],
      "metadata": {
        "id": "S5vHza5FKqS3"
      }
    },
    {
      "cell_type": "code",
      "source": [
        "prime = [[2, 3, 5, 7, 11],\n",
        "         [13, 17, 19, 23, 29],\n",
        "         [31, 37, 41, 43, 47],\n",
        "         [53, 59, 61, 71, 73],\n",
        "         [79, 83, 89, 97, 101]]\n",
        "\n",
        "prime_tensor = tf.constant(prime, dtype=tf.float32)\n",
        "print(prime_tensor.numpy())"
      ],
      "metadata": {
        "colab": {
          "base_uri": "https://localhost:8080/"
        },
        "id": "pI9FMuEVKclv",
        "outputId": "0957bc50-a8f7-4e94-d26b-a3aa099754e2"
      },
      "execution_count": 34,
      "outputs": [
        {
          "output_type": "stream",
          "name": "stdout",
          "text": [
            "[[  2.   3.   5.   7.  11.]\n",
            " [ 13.  17.  19.  23.  29.]\n",
            " [ 31.  37.  41.  43.  47.]\n",
            " [ 53.  59.  61.  71.  73.]\n",
            " [ 79.  83.  89.  97. 101.]]\n"
          ]
        }
      ]
    },
    {
      "cell_type": "markdown",
      "source": [
        "# Dimensi Tensor"
      ],
      "metadata": {
        "id": "qxWpwMGILJwI"
      }
    },
    {
      "cell_type": "code",
      "source": [
        "#Random\n",
        "print(random_tensor.shape)"
      ],
      "metadata": {
        "colab": {
          "base_uri": "https://localhost:8080/"
        },
        "id": "WOSb_zvSLB5q",
        "outputId": "42e46d32-da36-4358-848f-de4fe9340aa7"
      },
      "execution_count": 35,
      "outputs": [
        {
          "output_type": "stream",
          "name": "stdout",
          "text": [
            "(5, 5)\n"
          ]
        }
      ]
    },
    {
      "cell_type": "code",
      "source": [
        "#Prime\n",
        "print(prime_tensor.shape)"
      ],
      "metadata": {
        "colab": {
          "base_uri": "https://localhost:8080/"
        },
        "id": "1cD78F_bLQXM",
        "outputId": "b8b62ffb-fc91-4215-d157-91424fa41886"
      },
      "execution_count": 36,
      "outputs": [
        {
          "output_type": "stream",
          "name": "stdout",
          "text": [
            "(5, 5)\n"
          ]
        }
      ]
    },
    {
      "cell_type": "markdown",
      "source": [
        "# Perhitungan Aritmatika"
      ],
      "metadata": {
        "id": "BX1PIahdLe0Q"
      }
    },
    {
      "cell_type": "markdown",
      "source": [
        "### Penambahan"
      ],
      "metadata": {
        "id": "uWH9lgc8NMu2"
      }
    },
    {
      "cell_type": "code",
      "source": [
        "print(tf.add(random_tensor, prime_tensor).numpy())"
      ],
      "metadata": {
        "colab": {
          "base_uri": "https://localhost:8080/"
        },
        "id": "CfTY8l_GNcMQ",
        "outputId": "5c3b75b7-c1bb-4958-c44a-b601e1dfde2b"
      },
      "execution_count": 38,
      "outputs": [
        {
          "output_type": "stream",
          "name": "stdout",
          "text": [
            "[[  0.5652813   3.9239042   5.469921    7.6724553  11.921932 ]\n",
            " [ 13.583077   16.702763   19.582409   21.92423    28.879751 ]\n",
            " [ 30.778078   37.847954   40.796753   43.003246   45.815254 ]\n",
            " [ 54.060486   58.442257   60.252842   71.76156    72.356636 ]\n",
            " [ 79.97188    82.74053    88.48912    97.864655  101.92503  ]]\n"
          ]
        }
      ]
    },
    {
      "cell_type": "markdown",
      "source": [
        "### Pengurangan"
      ],
      "metadata": {
        "id": "ymufPRNRNcpW"
      }
    },
    {
      "cell_type": "code",
      "source": [
        "print(tf.subtract(random_tensor, prime_tensor).numpy())"
      ],
      "metadata": {
        "colab": {
          "base_uri": "https://localhost:8080/"
        },
        "id": "zLn-m-0jLduR",
        "outputId": "b8a418c4-f250-4bfd-88bf-70f1fd695c40"
      },
      "execution_count": 39,
      "outputs": [
        {
          "output_type": "stream",
          "name": "stdout",
          "text": [
            "[[  -3.4347186   -2.0760958   -4.530079    -6.3275447  -10.078068 ]\n",
            " [ -12.416923   -17.297237   -18.417591   -24.07577    -29.120249 ]\n",
            " [ -31.221922   -36.152046   -41.203247   -42.996754   -48.184746 ]\n",
            " [ -51.939514   -59.557743   -61.747158   -70.23844    -73.643364 ]\n",
            " [ -78.02812    -83.25947    -89.51088    -96.135345  -100.07497  ]]\n"
          ]
        }
      ]
    },
    {
      "cell_type": "markdown",
      "source": [
        "### Perkalian"
      ],
      "metadata": {
        "id": "W2GU5l6GLjXF"
      }
    },
    {
      "cell_type": "code",
      "source": [
        "print(tf.multiply(random_tensor, prime_tensor).numpy())"
      ],
      "metadata": {
        "colab": {
          "base_uri": "https://localhost:8080/"
        },
        "id": "OFSFO1ZNLiDZ",
        "outputId": "fc13c50e-ad13-484f-e920-909c37aae2b9"
      },
      "execution_count": 40,
      "outputs": [
        {
          "output_type": "stream",
          "name": "stdout",
          "text": [
            "[[ -2.8694375    2.7717123    2.3496065    4.7071877   10.141251  ]\n",
            " [  7.580009    -5.0530353   11.065777   -24.742699    -3.4872272 ]\n",
            " [ -6.8796053   31.374262    -8.333076     0.13950984 -55.682972  ]\n",
            " [ 56.205723   -32.906857   -45.576603    54.07085    -46.965496  ]\n",
            " [ 76.778496   -21.536032   -45.468437    83.87158     93.42814   ]]\n"
          ]
        }
      ]
    },
    {
      "cell_type": "markdown",
      "source": [
        "### Pembagian"
      ],
      "metadata": {
        "id": "V4TYqHoMLiaR"
      }
    },
    {
      "cell_type": "code",
      "source": [
        "print(tf.divide(random_tensor, prime_tensor).numpy())"
      ],
      "metadata": {
        "colab": {
          "base_uri": "https://localhost:8080/"
        },
        "id": "FaWWJhrzLpp1",
        "outputId": "f541256e-8416-49e1-c35a-2db98f53ddb9"
      },
      "execution_count": 41,
      "outputs": [
        {
          "output_type": "stream",
          "name": "stdout",
          "text": [
            "[[-7.1735936e-01  3.0796805e-01  9.3984261e-02  9.6065052e-02\n",
            "   8.3811991e-02]\n",
            " [ 4.4852123e-02 -1.7484551e-02  3.0653123e-02 -4.6772588e-02\n",
            "  -4.1465247e-03]\n",
            " [-7.1587986e-03  2.2917649e-02 -4.9572131e-03  7.5451513e-05\n",
            "  -2.5207322e-02]\n",
            " [ 2.0009158e-02 -9.4532762e-03 -1.2248482e-02  1.0726215e-02\n",
            "  -8.8131912e-03]\n",
            " [ 1.2302274e-02 -3.1261477e-03 -5.7402393e-03  8.9139743e-03\n",
            "   9.1587231e-03]]\n"
          ]
        }
      ]
    },
    {
      "cell_type": "markdown",
      "source": [
        "### Logarithm"
      ],
      "metadata": {
        "id": "iUSLsbscLs4m"
      }
    },
    {
      "cell_type": "code",
      "source": [
        "print(tf.math.log(random_tensor, prime_tensor).numpy())"
      ],
      "metadata": {
        "colab": {
          "base_uri": "https://localhost:8080/"
        },
        "id": "Nh57onQPLsF4",
        "outputId": "79d6c3a2-9523-405b-93d1-19705a3d2b79"
      },
      "execution_count": 42,
      "outputs": [
        {
          "output_type": "stream",
          "name": "stdout",
          "text": [
            "[[        nan -0.07914697 -0.7551901  -0.39681953 -0.08128396]\n",
            " [-0.53943497         nan -0.5405818          nan         nan]\n",
            " [        nan -0.16493003         nan -5.73082            nan]\n",
            " [ 0.05872669         nan         nan -0.27238464         nan]\n",
            " [-0.02852329         nan         nan -0.14542411 -0.07792795]]\n"
          ]
        }
      ]
    },
    {
      "cell_type": "markdown",
      "source": [
        "### Perpangkatan"
      ],
      "metadata": {
        "id": "JSzlkQ4VLvkv"
      }
    },
    {
      "cell_type": "code",
      "source": [
        "print(tf.pow(random_tensor, prime_tensor).numpy())"
      ],
      "metadata": {
        "colab": {
          "base_uri": "https://localhost:8080/"
        },
        "id": "pEVZ0liKLzB8",
        "outputId": "88f34497-4db7-47b9-ef8e-c383a675037d"
      },
      "execution_count": 43,
      "outputs": [
        {
          "output_type": "stream",
          "name": "stdout",
          "text": [
            "[[ 2.0584178e+00  7.8864348e-01  2.2915304e-02  6.2179077e-02\n",
            "   4.0896589e-01]\n",
            " [ 9.0041506e-04 -1.1034633e-09  3.4620876e-05 -5.3646650e+00\n",
            "  -2.1008009e-27]\n",
            " [-5.3982986e-21  2.2374652e-03 -4.2548072e-29  0.0000000e+00\n",
            "  -2.8863860e+03]\n",
            " [ 2.2477499e+01 -1.0955391e-15 -1.8973090e-08  3.9906580e-09\n",
            "  -1.0406170e-14]\n",
            " [ 1.0504781e-01  0.0000000e+00 -1.0976931e-26  7.4779274e-07\n",
            "   3.8175800e-04]]\n"
          ]
        }
      ]
    },
    {
      "cell_type": "markdown",
      "source": [
        "### Modulus"
      ],
      "metadata": {
        "id": "HKH5HecDL3w4"
      }
    },
    {
      "cell_type": "code",
      "source": [
        "print(tf.math.floormod(random_tensor, prime_tensor).numpy())"
      ],
      "metadata": {
        "colab": {
          "base_uri": "https://localhost:8080/"
        },
        "id": "sMP6y32eL08F",
        "outputId": "fa98eb05-584a-4e4b-a791-1d95e607f744"
      },
      "execution_count": 44,
      "outputs": [
        {
          "output_type": "stream",
          "name": "stdout",
          "text": [
            "[[5.6528127e-01 9.2390412e-01 4.6992129e-01 6.7245537e-01 9.2193186e-01]\n",
            " [5.8307761e-01 1.6702763e+01 5.8240932e-01 2.1924231e+01 2.8879751e+01]\n",
            " [3.0778078e+01 8.4795302e-01 4.0796753e+01 3.2444149e-03 4.5815254e+01]\n",
            " [1.0604854e+00 5.8442257e+01 6.0252842e+01 7.6156127e-01 7.2356636e+01]\n",
            " [9.7187966e-01 8.2740532e+01 8.8489120e+01 8.6465549e-01 9.2503107e-01]]\n"
          ]
        }
      ]
    },
    {
      "cell_type": "markdown",
      "source": [
        "# Nilai Maksimal dan Minimal"
      ],
      "metadata": {
        "id": "-0ljH5XZL7Pu"
      }
    },
    {
      "cell_type": "code",
      "source": [
        "#max\n",
        "print(tf.reduce_max(random_tensor).numpy())"
      ],
      "metadata": {
        "colab": {
          "base_uri": "https://localhost:8080/"
        },
        "id": "aTz6DoYeL6Hc",
        "outputId": "a08ed605-416a-40b7-c459-2da5da8f7fb8"
      },
      "execution_count": 45,
      "outputs": [
        {
          "output_type": "stream",
          "name": "stdout",
          "text": [
            "1.0604854\n"
          ]
        }
      ]
    },
    {
      "cell_type": "code",
      "source": [
        "#min\n",
        "print(tf.reduce_min(random_tensor).numpy())"
      ],
      "metadata": {
        "colab": {
          "base_uri": "https://localhost:8080/"
        },
        "id": "2q_VOBTBMH97",
        "outputId": "bb3c85c7-f4ca-4613-931b-8cdacbfce1aa"
      },
      "execution_count": 46,
      "outputs": [
        {
          "output_type": "stream",
          "name": "stdout",
          "text": [
            "-1.4347187\n"
          ]
        }
      ]
    },
    {
      "cell_type": "markdown",
      "source": [
        "# Tensor Concatenation"
      ],
      "metadata": {
        "id": "a6JcqHwhOWUV"
      }
    },
    {
      "cell_type": "code",
      "source": [
        "print(tf.concat([random_tensor, prime_tensor], axis=0).numpy())"
      ],
      "metadata": {
        "colab": {
          "base_uri": "https://localhost:8080/"
        },
        "id": "S7DvpZFvMJTe",
        "outputId": "0a7fb159-1913-4597-a22c-196c87d8f4a2"
      },
      "execution_count": 47,
      "outputs": [
        {
          "output_type": "stream",
          "name": "stdout",
          "text": [
            "[[-1.4347187e+00  9.2390412e-01  4.6992129e-01  6.7245537e-01\n",
            "   9.2193186e-01]\n",
            " [ 5.8307761e-01 -2.9723737e-01  5.8240932e-01 -1.0757695e+00\n",
            "  -1.2024921e-01]\n",
            " [-2.2192276e-01  8.4795302e-01 -2.0324574e-01  3.2444149e-03\n",
            "  -1.1847441e+00]\n",
            " [ 1.0604854e+00 -5.5774331e-01 -7.4715739e-01  7.6156127e-01\n",
            "  -6.4336294e-01]\n",
            " [ 9.7187966e-01 -2.5947025e-01 -5.1088130e-01  8.6465549e-01\n",
            "   9.2503107e-01]\n",
            " [ 2.0000000e+00  3.0000000e+00  5.0000000e+00  7.0000000e+00\n",
            "   1.1000000e+01]\n",
            " [ 1.3000000e+01  1.7000000e+01  1.9000000e+01  2.3000000e+01\n",
            "   2.9000000e+01]\n",
            " [ 3.1000000e+01  3.7000000e+01  4.1000000e+01  4.3000000e+01\n",
            "   4.7000000e+01]\n",
            " [ 5.3000000e+01  5.9000000e+01  6.1000000e+01  7.1000000e+01\n",
            "   7.3000000e+01]\n",
            " [ 7.9000000e+01  8.3000000e+01  8.9000000e+01  9.7000000e+01\n",
            "   1.0100000e+02]]\n"
          ]
        }
      ]
    },
    {
      "cell_type": "code",
      "source": [
        "print(tf.concat([random_tensor, prime_tensor], axis=1).numpy())"
      ],
      "metadata": {
        "colab": {
          "base_uri": "https://localhost:8080/"
        },
        "id": "3rTeBG8vMRmN",
        "outputId": "b8e4470e-ea4f-469f-a2db-aee3d48f9379"
      },
      "execution_count": 48,
      "outputs": [
        {
          "output_type": "stream",
          "name": "stdout",
          "text": [
            "[[-1.4347187e+00  9.2390412e-01  4.6992129e-01  6.7245537e-01\n",
            "   9.2193186e-01  2.0000000e+00  3.0000000e+00  5.0000000e+00\n",
            "   7.0000000e+00  1.1000000e+01]\n",
            " [ 5.8307761e-01 -2.9723737e-01  5.8240932e-01 -1.0757695e+00\n",
            "  -1.2024921e-01  1.3000000e+01  1.7000000e+01  1.9000000e+01\n",
            "   2.3000000e+01  2.9000000e+01]\n",
            " [-2.2192276e-01  8.4795302e-01 -2.0324574e-01  3.2444149e-03\n",
            "  -1.1847441e+00  3.1000000e+01  3.7000000e+01  4.1000000e+01\n",
            "   4.3000000e+01  4.7000000e+01]\n",
            " [ 1.0604854e+00 -5.5774331e-01 -7.4715739e-01  7.6156127e-01\n",
            "  -6.4336294e-01  5.3000000e+01  5.9000000e+01  6.1000000e+01\n",
            "   7.1000000e+01  7.3000000e+01]\n",
            " [ 9.7187966e-01 -2.5947025e-01 -5.1088130e-01  8.6465549e-01\n",
            "   9.2503107e-01  7.9000000e+01  8.3000000e+01  8.9000000e+01\n",
            "   9.7000000e+01  1.0100000e+02]]\n"
          ]
        }
      ]
    },
    {
      "cell_type": "markdown",
      "source": [
        "\n",
        "# Tensor Sorting"
      ],
      "metadata": {
        "id": "c_dxy947Mbyn"
      }
    },
    {
      "cell_type": "code",
      "source": [
        "print(tf.sort(random_tensor, direction='DESCENDING').numpy()) # axis=1"
      ],
      "metadata": {
        "colab": {
          "base_uri": "https://localhost:8080/"
        },
        "id": "alsIFBHRMXrq",
        "outputId": "3c52392a-1396-41ae-a7cc-b9d9d4eb981b"
      },
      "execution_count": 49,
      "outputs": [
        {
          "output_type": "stream",
          "name": "stdout",
          "text": [
            "[[ 0.9239041   0.92193186  0.6724554   0.4699213  -1.4347187 ]\n",
            " [ 0.5830776   0.5824093  -0.12024921 -0.29723737 -1.0757695 ]\n",
            " [ 0.847953    0.00324441 -0.20324574 -0.22192276 -1.1847441 ]\n",
            " [ 1.0604854   0.7615613  -0.5577433  -0.64336294 -0.7471574 ]\n",
            " [ 0.97187966  0.92503107  0.8646555  -0.25947025 -0.5108813 ]]\n"
          ]
        }
      ]
    },
    {
      "cell_type": "code",
      "source": [
        "print(tf.sort(random_tensor, direction='DESCENDING', axis=0).numpy())"
      ],
      "metadata": {
        "colab": {
          "base_uri": "https://localhost:8080/"
        },
        "id": "k4JiedGcMciD",
        "outputId": "8f4ff047-0ad4-4708-f20c-a8a7dfd48205"
      },
      "execution_count": 50,
      "outputs": [
        {
          "output_type": "stream",
          "name": "stdout",
          "text": [
            "[[ 1.0604854   0.9239041   0.5824093   0.8646555   0.92503107]\n",
            " [ 0.97187966  0.847953    0.4699213   0.7615613   0.92193186]\n",
            " [ 0.5830776  -0.25947025 -0.20324574  0.6724554  -0.12024921]\n",
            " [-0.22192276 -0.29723737 -0.5108813   0.00324441 -0.64336294]\n",
            " [-1.4347187  -0.5577433  -0.7471574  -1.0757695  -1.1847441 ]]\n"
          ]
        }
      ]
    },
    {
      "cell_type": "code",
      "source": [
        "print(tf.sort(prime_tensor, direction='DESCENDING').numpy()) # axis=1"
      ],
      "metadata": {
        "colab": {
          "base_uri": "https://localhost:8080/"
        },
        "id": "hi08hTEbMgO4",
        "outputId": "a09441ed-3b7a-4741-c704-decb6710787f"
      },
      "execution_count": 51,
      "outputs": [
        {
          "output_type": "stream",
          "name": "stdout",
          "text": [
            "[[ 11.   7.   5.   3.   2.]\n",
            " [ 29.  23.  19.  17.  13.]\n",
            " [ 47.  43.  41.  37.  31.]\n",
            " [ 73.  71.  61.  59.  53.]\n",
            " [101.  97.  89.  83.  79.]]\n"
          ]
        }
      ]
    },
    {
      "cell_type": "code",
      "source": [
        "print(tf.sort(prime_tensor, direction='DESCENDING', axis=0).numpy())"
      ],
      "metadata": {
        "colab": {
          "base_uri": "https://localhost:8080/"
        },
        "id": "Do1YQibPMjB0",
        "outputId": "9171bf13-669e-4bc1-aff8-2f54df9bff03"
      },
      "execution_count": 52,
      "outputs": [
        {
          "output_type": "stream",
          "name": "stdout",
          "text": [
            "[[ 79.  83.  89.  97. 101.]\n",
            " [ 53.  59.  61.  71.  73.]\n",
            " [ 31.  37.  41.  43.  47.]\n",
            " [ 13.  17.  19.  23.  29.]\n",
            " [  2.   3.   5.   7.  11.]]\n"
          ]
        }
      ]
    }
  ]
}